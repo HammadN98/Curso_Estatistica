{
  "nbformat": 4,
  "nbformat_minor": 0,
  "metadata": {
    "colab": {
      "provenance": [],
      "authorship_tag": "ABX9TyOlA9dpF0US/21GIrYQSTnJ",
      "include_colab_link": true
    },
    "kernelspec": {
      "name": "python3",
      "display_name": "Python 3"
    },
    "language_info": {
      "name": "python"
    }
  },
  "cells": [
    {
      "cell_type": "markdown",
      "metadata": {
        "id": "view-in-github",
        "colab_type": "text"
      },
      "source": [
        "<a href=\"https://colab.research.google.com/github/HammadN98/Curso_Estatistica/blob/main/S8IntervalosConfianca_TesteHipotese.ipynb\" target=\"_parent\"><img src=\"https://colab.research.google.com/assets/colab-badge.svg\" alt=\"Open In Colab\"/></a>"
      ]
    },
    {
      "cell_type": "markdown",
      "source": [
        "#Intervalos de confianca"
      ],
      "metadata": {
        "id": "5Iy56xzqX-3Q"
      }
    },
    {
      "cell_type": "code",
      "execution_count": 1,
      "metadata": {
        "id": "hPxINdkji5Ed"
      },
      "outputs": [],
      "source": [
        "import numpy as np\n",
        "from scipy.stats import norm\n",
        "from scipy import stats\n",
        "import math\n",
        "import seaborn as sns"
      ]
    },
    {
      "cell_type": "markdown",
      "source": [
        "# Dados"
      ],
      "metadata": {
        "id": "adFZKOFUYCjd"
      }
    },
    {
      "cell_type": "code",
      "source": [
        "dados = np.array([126. , 129.5, 133. , 133. , 136.5, 136.5, 140. , 140. , 140. ,\n",
        "                  140. , 143.5, 143.5, 143.5, 143.5, 143.5, 143.5, 147. , 147. ,\n",
        "                  147. , 147. , 147. , 147. , 147. , 150.5, 150.5, 150.5, 150.5,\n",
        "                  150.5, 150.5, 150.5, 150.5, 154. , 154. , 154. , 154. , 154. ,\n",
        "                  154. , 154. , 154. , 154. , 157.5, 157.5, 157.5, 157.5, 157.5,\n",
        "                  157.5, 157.5, 157.5, 157.5, 157.5, 161. , 161. , 161. , 161. ,\n",
        "                  161. , 161. , 161. , 161. , 161. , 161. , 164.5, 164.5, 164.5,\n",
        "                  164.5, 164.5, 164.5, 164.5, 164.5, 164.5, 168. , 168. , 168. ,\n",
        "                  168. , 168. , 168. , 168. , 168. , 171.5, 171.5, 171.5, 171.5,\n",
        "                  171.5, 171.5, 171.5, 175. , 175. , 175. , 175. , 175. , 175. ,\n",
        "                  178.5, 178.5, 178.5, 178.5, 182. , 182. , 185.5, 185.5, 189., 192.5])\n",
        "len(dados)"
      ],
      "metadata": {
        "colab": {
          "base_uri": "https://localhost:8080/"
        },
        "id": "c3NIkOhDXhEx",
        "outputId": "fc575406-9bbf-4a8a-b604-b5738bc2208b"
      },
      "execution_count": 2,
      "outputs": [
        {
          "output_type": "execute_result",
          "data": {
            "text/plain": [
              "100"
            ]
          },
          "metadata": {},
          "execution_count": 2
        }
      ]
    },
    {
      "cell_type": "code",
      "source": [
        "media = np.mean(dados)\n",
        "desvio_padrao = np.std(dados)\n",
        "\n",
        "print(f\"Media: {media} \\nDesvio Padrao: {desvio_padrao}\")"
      ],
      "metadata": {
        "colab": {
          "base_uri": "https://localhost:8080/"
        },
        "id": "ZfCkJb2xXoCM",
        "outputId": "65a58ffd-f0cd-4607-f62b-8d0a7f5bc0e4"
      },
      "execution_count": 7,
      "outputs": [
        {
          "output_type": "stream",
          "name": "stdout",
          "text": [
            "Media: 159.25 \n",
            "Desvio Padrao: 13.65\n"
          ]
        }
      ]
    },
    {
      "cell_type": "markdown",
      "source": [],
      "metadata": {
        "id": "BWiVFSebXspG"
      }
    },
    {
      "cell_type": "markdown",
      "source": [
        "# Intervalo de confianca manual"
      ],
      "metadata": {
        "id": "52F6YUZIYHtV"
      }
    },
    {
      "cell_type": "code",
      "source": [],
      "metadata": {
        "id": "0pfaW6GzYLDo"
      },
      "execution_count": null,
      "outputs": []
    },
    {
      "cell_type": "markdown",
      "source": [
        "# Intervalo de confianca - scipy"
      ],
      "metadata": {
        "id": "9hJy2J65YLgD"
      }
    },
    {
      "cell_type": "code",
      "source": [],
      "metadata": {
        "id": "Q6NeXoXtYOXO"
      },
      "execution_count": null,
      "outputs": []
    },
    {
      "cell_type": "markdown",
      "source": [
        "# Diferentes niveis de confianca"
      ],
      "metadata": {
        "id": "dxsb94ekYPdK"
      }
    },
    {
      "cell_type": "code",
      "source": [],
      "metadata": {
        "id": "W3To7PaUYQ_s"
      },
      "execution_count": null,
      "outputs": []
    },
    {
      "cell_type": "markdown",
      "source": [
        "# Distribuicao T Student"
      ],
      "metadata": {
        "id": "DjyT35i9YRPn"
      }
    },
    {
      "cell_type": "code",
      "source": [],
      "metadata": {
        "id": "w6jHWNuSYXC_"
      },
      "execution_count": null,
      "outputs": []
    },
    {
      "cell_type": "markdown",
      "source": [
        "# Intervalos de confiança e classificação"
      ],
      "metadata": {
        "id": "x6G34ilVYXWw"
      }
    },
    {
      "cell_type": "code",
      "source": [],
      "metadata": {
        "id": "xyVPAA62YY3C"
      },
      "execution_count": null,
      "outputs": []
    },
    {
      "cell_type": "markdown",
      "source": [
        "## Acurracy"
      ],
      "metadata": {
        "id": "XCBeNtOGYeSB"
      }
    },
    {
      "cell_type": "code",
      "source": [
        "import pandas as pd\n",
        "from sklearn.model_selection import train_test_split\n",
        "from sklearn.naive_bayes import GaussianNB\n",
        "from sklearn.linear_model import LogisticRegression\n",
        "from sklearn.ensemble import RandomForestClassifier\n",
        "from sklearn.metrics import accuracy_score\n",
        "from sklearn.model_selection import cross_val_score, KFold\n",
        "dataset = pd.read_csv('credit_data.csv')\n",
        "dataset.dropna(inplace=True)\n",
        "dataset.head()"
      ],
      "metadata": {
        "id": "Veq3elMPYg_g"
      },
      "execution_count": null,
      "outputs": []
    },
    {
      "cell_type": "markdown",
      "source": [
        "## Intervalos de confianca"
      ],
      "metadata": {
        "id": "hrewmUruYhTY"
      }
    },
    {
      "cell_type": "code",
      "source": [],
      "metadata": {
        "id": "HrXmzbNBYjS8"
      },
      "execution_count": null,
      "outputs": []
    }
  ]
}