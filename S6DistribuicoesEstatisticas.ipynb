{
  "nbformat": 4,
  "nbformat_minor": 0,
  "metadata": {
    "colab": {
      "provenance": [],
      "authorship_tag": "ABX9TyOSMcBhveJIGGNF7/x2jzFL",
      "include_colab_link": true
    },
    "kernelspec": {
      "name": "python3",
      "display_name": "Python 3"
    },
    "language_info": {
      "name": "python"
    }
  },
  "cells": [
    {
      "cell_type": "markdown",
      "metadata": {
        "id": "view-in-github",
        "colab_type": "text"
      },
      "source": [
        "<a href=\"https://colab.research.google.com/github/HammadN98/Curso_Estatistica/blob/main/S6DistribuicoesEstatisticas.ipynb\" target=\"_parent\"><img src=\"https://colab.research.google.com/assets/colab-badge.svg\" alt=\"Open In Colab\"/></a>"
      ]
    },
    {
      "cell_type": "code",
      "execution_count": 1,
      "metadata": {
        "id": "SdvIbp9Ltc04"
      },
      "outputs": [],
      "source": [
        "import numpy as np\n",
        "import seaborn as sns\n",
        "import pandas as pd\n",
        "from scipy import stats"
      ]
    },
    {
      "cell_type": "markdown",
      "source": [
        "# Variaveis Continuas"
      ],
      "metadata": {
        "id": "dn9PaXrynKO8"
      }
    },
    {
      "cell_type": "markdown",
      "source": [
        "### Distribuica normal - Gaussian Distribution"
      ],
      "metadata": {
        "id": "_UXEqzndnM2A"
      }
    },
    {
      "cell_type": "code",
      "source": [
        "dados_normal = stats.norm.rvs(size=1000, random_state=1)\n",
        "dados_normal"
      ],
      "metadata": {
        "colab": {
          "base_uri": "https://localhost:8080/"
        },
        "id": "6Bk8l6yDnJQx",
        "outputId": "8945ada0-49b2-4f09-f980-d31713005667"
      },
      "execution_count": 3,
      "outputs": [
        {
          "output_type": "execute_result",
          "data": {
            "text/plain": [
              "array([ 1.62434536e+00, -6.11756414e-01, -5.28171752e-01, -1.07296862e+00,\n",
              "        8.65407629e-01, -2.30153870e+00,  1.74481176e+00, -7.61206901e-01,\n",
              "        3.19039096e-01, -2.49370375e-01,  1.46210794e+00, -2.06014071e+00,\n",
              "       -3.22417204e-01, -3.84054355e-01,  1.13376944e+00, -1.09989127e+00,\n",
              "       -1.72428208e-01, -8.77858418e-01,  4.22137467e-02,  5.82815214e-01,\n",
              "       -1.10061918e+00,  1.14472371e+00,  9.01590721e-01,  5.02494339e-01,\n",
              "        9.00855949e-01, -6.83727859e-01, -1.22890226e-01, -9.35769434e-01,\n",
              "       -2.67888080e-01,  5.30355467e-01, -6.91660752e-01, -3.96753527e-01,\n",
              "       -6.87172700e-01, -8.45205641e-01, -6.71246131e-01, -1.26645989e-02,\n",
              "       -1.11731035e+00,  2.34415698e-01,  1.65980218e+00,  7.42044161e-01,\n",
              "       -1.91835552e-01, -8.87628964e-01, -7.47158294e-01,  1.69245460e+00,\n",
              "        5.08077548e-02, -6.36995647e-01,  1.90915485e-01,  2.10025514e+00,\n",
              "        1.20158952e-01,  6.17203110e-01,  3.00170320e-01, -3.52249846e-01,\n",
              "       -1.14251820e+00, -3.49342722e-01, -2.08894233e-01,  5.86623191e-01,\n",
              "        8.38983414e-01,  9.31102081e-01,  2.85587325e-01,  8.85141164e-01,\n",
              "       -7.54397941e-01,  1.25286816e+00,  5.12929820e-01, -2.98092835e-01,\n",
              "        4.88518147e-01, -7.55717130e-02,  1.13162939e+00,  1.51981682e+00,\n",
              "        2.18557541e+00, -1.39649634e+00, -1.44411381e+00, -5.04465863e-01,\n",
              "        1.60037069e-01,  8.76168921e-01,  3.15634947e-01, -2.02220122e+00,\n",
              "       -3.06204013e-01,  8.27974643e-01,  2.30094735e-01,  7.62011180e-01,\n",
              "       -2.22328143e-01, -2.00758069e-01,  1.86561391e-01,  4.10051647e-01,\n",
              "        1.98299720e-01,  1.19008646e-01, -6.70662286e-01,  3.77563786e-01,\n",
              "        1.21821271e-01,  1.12948391e+00,  1.19891788e+00,  1.85156417e-01,\n",
              "       -3.75284950e-01, -6.38730407e-01,  4.23494354e-01,  7.73400683e-02,\n",
              "       -3.43853676e-01,  4.35968568e-02, -6.20000844e-01,  6.98032034e-01,\n",
              "       -4.47128565e-01,  1.22450770e+00,  4.03491642e-01,  5.93578523e-01,\n",
              "       -1.09491185e+00,  1.69382433e-01,  7.40556451e-01, -9.53700602e-01,\n",
              "       -2.66218506e-01,  3.26145467e-02, -1.37311732e+00,  3.15159392e-01,\n",
              "        8.46160648e-01, -8.59515941e-01,  3.50545979e-01, -1.31228341e+00,\n",
              "       -3.86955093e-02, -1.61577235e+00,  1.12141771e+00,  4.08900538e-01,\n",
              "       -2.46169559e-02, -7.75161619e-01,  1.27375593e+00,  1.96710175e+00,\n",
              "       -1.85798186e+00,  1.23616403e+00,  1.62765075e+00,  3.38011697e-01,\n",
              "       -1.19926803e+00,  8.63345318e-01, -1.80920302e-01, -6.03920628e-01,\n",
              "       -1.23005814e+00,  5.50537496e-01,  7.92806866e-01, -6.23530730e-01,\n",
              "        5.20576337e-01, -1.14434139e+00,  8.01861032e-01,  4.65672984e-02,\n",
              "       -1.86569772e-01, -1.01745873e-01,  8.68886157e-01,  7.50411640e-01,\n",
              "        5.29465324e-01,  1.37701210e-01,  7.78211279e-02,  6.18380262e-01,\n",
              "        2.32494559e-01,  6.82551407e-01, -3.10116774e-01, -2.43483776e+00,\n",
              "        1.03882460e+00,  2.18697965e+00,  4.41364444e-01, -1.00155233e-01,\n",
              "       -1.36444744e-01, -1.19054188e-01,  1.74094083e-02, -1.12201873e+00,\n",
              "       -5.17094458e-01, -9.97026828e-01,  2.48799161e-01, -2.96641152e-01,\n",
              "        4.95211324e-01, -1.74703160e-01,  9.86335188e-01,  2.13533901e-01,\n",
              "        2.19069973e+00, -1.89636092e+00, -6.46916688e-01,  9.01486892e-01,\n",
              "        2.52832571e+00, -2.48634778e-01,  4.36689932e-02, -2.26314243e-01,\n",
              "        1.33145711e+00, -2.87307863e-01,  6.80069840e-01, -3.19801599e-01,\n",
              "       -1.27255876e+00,  3.13547720e-01,  5.03184813e-01,  1.29322588e+00,\n",
              "       -1.10447026e-01, -6.17362064e-01,  5.62761097e-01,  2.40737092e-01,\n",
              "        2.80665077e-01, -7.31127037e-02,  1.16033857e+00,  3.69492716e-01,\n",
              "        1.90465871e+00,  1.11105670e+00,  6.59049796e-01, -1.62743834e+00,\n",
              "        6.02319280e-01,  4.20282204e-01,  8.10951673e-01,  1.04444209e+00,\n",
              "       -4.00878192e-01,  8.24005618e-01, -5.62305431e-01,  1.95487808e+00,\n",
              "       -1.33195167e+00, -1.76068856e+00, -1.65072127e+00, -8.90555584e-01,\n",
              "       -1.11911540e+00,  1.95607890e+00, -3.26499498e-01, -1.34267579e+00,\n",
              "        1.11438298e+00, -5.86523939e-01, -1.23685338e+00,  8.75838928e-01,\n",
              "        6.23362177e-01, -4.34956683e-01,  1.40754000e+00,  1.29101580e-01,\n",
              "        1.61694960e+00,  5.02740882e-01,  1.55880554e+00,  1.09402696e-01,\n",
              "       -1.21974440e+00,  2.44936865e+00, -5.45774168e-01, -1.98837863e-01,\n",
              "       -7.00398505e-01, -2.03394449e-01,  2.42669441e-01,  2.01830179e-01,\n",
              "        6.61020288e-01,  1.79215821e+00, -1.20464572e-01, -1.23312074e+00,\n",
              "       -1.18231813e+00, -6.65754518e-01, -1.67419581e+00,  8.25029824e-01,\n",
              "       -4.98213564e-01, -3.10984978e-01, -1.89148284e-03, -1.39662042e+00,\n",
              "       -8.61316361e-01,  6.74711526e-01,  6.18539131e-01, -4.43171931e-01,\n",
              "        1.81053491e+00, -1.30572692e+00, -3.44987210e-01, -2.30839743e-01,\n",
              "       -2.79308500e+00,  1.93752881e+00,  3.66332015e-01, -1.04458938e+00,\n",
              "        2.05117344e+00,  5.85662000e-01,  4.29526140e-01, -6.06998398e-01,\n",
              "        1.06222724e-01, -1.52568032e+00,  7.95026094e-01, -3.74438319e-01,\n",
              "        1.34048197e-01,  1.20205486e+00,  2.84748111e-01,  2.62467445e-01,\n",
              "        2.76499305e-01, -7.33271604e-01,  8.36004719e-01,  1.54335911e+00,\n",
              "        7.58805660e-01,  8.84908814e-01, -8.77281519e-01, -8.67787223e-01,\n",
              "       -1.44087602e+00,  1.23225307e+00, -2.54179868e-01,  1.39984394e+00,\n",
              "       -7.81911683e-01, -4.37508983e-01,  9.54250872e-02,  9.21450069e-01,\n",
              "        6.07501958e-02,  2.11124755e-01,  1.65275673e-02,  1.77187720e-01,\n",
              "       -1.11647002e+00,  8.09271010e-02, -1.86578994e-01, -5.68244809e-02,\n",
              "        4.92336556e-01, -6.80678141e-01, -8.45080274e-02, -2.97361883e-01,\n",
              "        4.17302005e-01,  7.84770651e-01, -9.55425262e-01,  5.85910431e-01,\n",
              "        2.06578332e+00, -1.47115693e+00, -8.30171895e-01, -8.80577600e-01,\n",
              "       -2.79097722e-01,  1.62284909e+00,  1.33526763e-02, -6.94693595e-01,\n",
              "        6.21803504e-01, -5.99804531e-01,  1.12341216e+00,  3.05267040e-01,\n",
              "        1.38877940e+00, -6.61344243e-01,  3.03085711e+00,  8.24584625e-01,\n",
              "        6.54580153e-01, -5.11884476e-02, -7.25597119e-01, -8.67768678e-01,\n",
              "       -1.35977326e-01, -7.97269785e-01,  2.82675712e-01, -8.26097432e-01,\n",
              "        6.21082701e-01,  9.56121704e-01, -7.05840507e-01,  1.19268607e+00,\n",
              "       -2.37941936e-01,  1.15528789e+00,  4.38166347e-01,  1.12232832e+00,\n",
              "       -9.97019796e-01, -1.06793987e-01,  1.45142926e+00, -6.18036848e-01,\n",
              "       -2.03720123e+00, -1.94258918e+00, -2.50644065e+00, -2.11416392e+00,\n",
              "       -4.11639163e-01,  1.27852808e+00, -4.42229280e-01,  3.23527354e-01,\n",
              "       -1.09991490e-01,  8.54894544e-03, -1.68198840e-01, -1.74180344e-01,\n",
              "        4.61164100e-01, -1.17598267e+00,  1.01012718e+00,  9.20017933e-01,\n",
              "       -1.95057341e-01,  8.05393424e-01, -7.01344426e-01, -5.37223024e-01,\n",
              "        1.56263850e-01, -1.90221025e-01, -4.48738033e-01, -6.72448039e-01,\n",
              "       -5.57494722e-01,  9.39168744e-01, -1.94332341e+00,  3.52494364e-01,\n",
              "       -2.36436952e-01,  7.27813500e-01,  5.15073614e-01, -2.78253447e+00,\n",
              "        5.84646610e-01,  3.24274243e-01,  2.18628366e-02, -4.68673816e-01,\n",
              "        8.53281222e-01, -4.13029310e-01,  1.83471763e+00,  5.64382855e-01,\n",
              "        2.13782807e+00, -7.85533997e-01, -1.75592564e+00,  7.14789597e-01,\n",
              "        8.52704062e-01,  3.53600971e-02, -1.53879325e+00, -4.47895185e-01,\n",
              "        6.17985534e-01, -1.84176326e-01, -1.15985185e-01, -1.75458969e-01,\n",
              "       -9.33914656e-01, -5.33020326e-01, -1.42655542e+00,  1.76795995e+00,\n",
              "       -4.75372875e-01,  4.77610182e-01, -1.02188594e+00,  7.94528240e-01,\n",
              "       -1.87316098e+00,  9.20615118e-01, -3.53679249e-02,  2.11060505e+00,\n",
              "       -1.30653407e+00,  7.63804802e-02,  3.67231814e-01,  1.23289919e+00,\n",
              "       -4.22856961e-01,  8.64644065e-02, -2.14246673e+00, -8.30168864e-01,\n",
              "        4.51615951e-01,  1.10417433e+00, -2.81736269e-01,  2.05635552e+00,\n",
              "        1.76024923e+00, -6.06524918e-02, -2.41350300e+00, -1.77756638e+00,\n",
              "       -7.77858827e-01,  1.11584111e+00,  3.10272288e-01, -2.09424782e+00,\n",
              "       -2.28765829e-01,  1.61336137e+00, -3.74804687e-01, -7.49969617e-01,\n",
              "        2.05462410e+00,  5.34095368e-02, -4.79157099e-01,  3.50167159e-01,\n",
              "        1.71647264e-02, -4.29142278e-01,  1.20845633e+00,  1.11570180e+00,\n",
              "        8.40861558e-01, -1.02887218e-01,  1.14690038e+00, -4.97025792e-02,\n",
              "        4.66643267e-01,  1.03368687e+00,  8.08844360e-01,  1.78975468e+00,\n",
              "        4.51284016e-01, -1.68405999e+00, -1.16017010e+00,  1.35010682e+00,\n",
              "       -3.31283170e-01,  3.86539145e-01, -8.51455657e-01,  1.00088142e+00,\n",
              "       -3.84832249e-01,  1.45810824e+00, -5.32234021e-01,  1.11813340e+00,\n",
              "        6.74396105e-01, -7.22391905e-01,  1.09899633e+00, -9.01634490e-01,\n",
              "       -8.22467189e-01,  7.21711292e-01, -6.25342001e-01, -5.93843067e-01,\n",
              "       -3.43900709e-01, -1.00016919e+00,  1.04499441e+00,  6.08514698e-01,\n",
              "       -6.93286967e-02, -1.08392067e-01,  4.50155513e-01,  1.76533510e+00,\n",
              "        8.70969803e-01, -5.08457134e-01,  7.77419205e-01, -1.18771172e-01,\n",
              "       -1.98998184e-01,  1.86647138e+00, -4.18937898e-01, -4.79184915e-01,\n",
              "       -1.95210529e+00, -1.40232915e+00,  4.51122939e-01, -6.94920901e-01,\n",
              "        5.15413802e-01, -1.11487105e+00, -7.67309826e-01,  6.74570707e-01,\n",
              "        1.46089238e+00,  5.92472801e-01,  1.19783084e+00,  1.70459417e+00,\n",
              "        1.04008915e+00, -9.18440038e-01, -1.05344713e-01,  6.30195671e-01,\n",
              "       -4.14846901e-01,  4.51946037e-01, -1.57915629e+00, -8.28627979e-01,\n",
              "        5.28879746e-01, -2.23708651e+00, -1.10771250e+00, -1.77183179e-02,\n",
              "       -1.71939447e+00,  5.71209961e-02, -7.99547491e-01, -2.91594596e-01,\n",
              "       -2.58982853e-01,  1.89293198e-01, -5.63788735e-01,  8.96864073e-02,\n",
              "       -6.01156801e-01,  5.56073510e-01,  1.69380911e+00,  1.96869779e-01,\n",
              "        1.69869255e-01, -1.16400797e+00,  6.93366226e-01, -7.58067329e-01,\n",
              "       -8.08847196e-01,  5.57439453e-01,  1.81038744e-01,  1.10717545e+00,\n",
              "        1.44287693e+00, -5.39681562e-01,  1.28376990e-01,  1.76041518e+00,\n",
              "        9.66539250e-01,  7.13049050e-01,  1.30620607e+00, -6.04602969e-01,\n",
              "        6.36583409e-01,  1.40925339e+00,  1.62091229e+00, -8.06184817e-01,\n",
              "       -2.51674208e-01,  3.82715174e-01, -2.88997343e-01, -3.91816240e-01,\n",
              "        6.84001328e-01, -3.53409983e-01, -1.78791289e+00,  3.61847316e-01,\n",
              "       -4.24492791e-01, -7.31530982e-01, -1.56573815e+00,  1.01382247e+00,\n",
              "       -2.22711263e+00, -1.69933360e+00, -2.75846063e-01,  1.22895559e+00,\n",
              "        1.30970591e+00, -1.15498263e+00, -1.77632196e-01, -1.51045638e+00,\n",
              "        1.01120706e+00, -1.47656266e+00, -1.43195745e-01,  1.03298378e+00,\n",
              "       -2.22414029e-01,  1.47016034e+00, -8.70008223e-01,  3.69190470e-01,\n",
              "        8.53282186e-01, -1.39711730e-01,  1.38631426e+00,  5.48129585e-01,\n",
              "       -1.63744959e+00,  3.95860270e+00,  6.48643644e-01,  1.07343294e-01,\n",
              "       -1.39881282e+00,  8.17678188e-02, -4.59942831e-01,  6.44353666e-01,\n",
              "        3.71670291e-01,  1.85300949e+00,  1.42251373e-01,  5.13505480e-01,\n",
              "        3.72456852e-01, -1.48489803e-01, -1.83400197e-01,  1.10100020e+00,\n",
              "        7.80027135e-01, -6.29441604e-01, -1.11343610e+00, -6.74100249e-02,\n",
              "        1.16143998e+00, -2.75293863e-02,  1.74643509e+00, -7.75070287e-01,\n",
              "        1.41640538e-01, -2.51630386e+00, -5.95667881e-01, -3.09121319e-01,\n",
              "        5.10937774e-01,  1.71066184e+00,  3.49435894e-02,  1.45391758e+00,\n",
              "        6.61681076e-01,  9.86352180e-01, -4.66154857e-01,  1.38499134e+00,\n",
              "       -1.07296428e+00,  4.95158611e-01, -9.52062101e-01, -5.18145552e-01,\n",
              "       -1.46140360e+00, -5.16347909e-01,  3.51116897e-01, -6.87704631e-02,\n",
              "       -1.34776494e+00,  1.47073986e+00,  3.37220938e-01,  1.00806543e+00,\n",
              "        7.85226920e-01, -6.64867767e-01, -1.94504696e+00, -9.15424368e-01,\n",
              "        1.22515585e+00, -1.05354607e+00,  8.16043684e-01, -6.12406973e-01,\n",
              "        3.93109245e-01, -1.82391985e+00,  1.16707517e+00, -3.96687001e-02,\n",
              "        8.85825799e-01,  1.89861649e-01,  7.98063795e-01, -1.01932039e-01,\n",
              "        7.43356544e-01, -1.50957268e+00, -1.08071069e+00,  7.25474004e-01,\n",
              "       -3.91782562e-02, -2.28754171e-01, -1.79612295e-01,  5.01725109e-01,\n",
              "       -5.93343754e-01,  5.10307597e-01, -9.15791849e-01, -4.07252043e-01,\n",
              "        9.84951672e-01,  1.07125243e+00, -1.09715436e+00,  8.38634747e-01,\n",
              "       -1.03918232e+00,  7.33023232e-01, -1.89881206e+00, -1.11711069e+00,\n",
              "       -5.08972278e-01, -1.66485955e-01,  1.42361443e+00,  9.03999174e-01,\n",
              "        1.57546791e+00,  1.20660790e+00, -2.82863552e-01, -2.66326884e-01,\n",
              "        1.06897162e+00,  4.03714310e-02, -1.56993672e-01, -1.33520272e+00,\n",
              "       -1.06460122e-01, -2.79099641e+00, -4.56117555e-01, -9.79890252e-01,\n",
              "        6.92574348e-01, -4.78672356e-01, -3.29051549e-01,  1.34710546e+00,\n",
              "       -1.04906775e+00,  3.16658895e-01, -1.89526695e+00,  8.97291174e-02,\n",
              "        4.10265745e-01,  8.59870972e-01, -8.98683193e-01,  3.19656942e-01,\n",
              "        3.18154200e-01, -1.92316341e-02,  1.50016279e-01,  4.63534322e-01,\n",
              "        3.97880425e-01, -9.96010889e-01, -1.19586151e+00,  2.50598029e+00,\n",
              "        1.91979229e+00, -1.39169388e+00,  4.50217742e-01,  6.27437083e-01,\n",
              "        7.51337235e-01,  1.40395436e-01, -9.26871939e-01, -1.82420406e-01,\n",
              "       -4.91125138e-01,  1.34373116e-01, -2.68371304e-01, -1.31675626e-01,\n",
              "        1.01855247e+00,  1.23055820e+00, -1.18110317e+00, -4.59930104e-01,\n",
              "       -7.90799954e-01,  1.22372221e+00, -5.93679025e-02,  1.44898940e+00,\n",
              "       -4.77580855e-01,  2.59999942e-02, -1.34869645e+00,  1.30253554e+00,\n",
              "       -3.62612088e-01, -1.48515645e+00, -5.92461285e-01, -2.30490794e+00,\n",
              "       -3.18171727e-02,  1.12487742e-01,  2.88078167e-01,  1.49810818e+00,\n",
              "       -3.00976154e-01,  8.07455917e-01,  3.12238689e-01, -1.93321640e-01,\n",
              "       -2.07680202e+00,  9.47501167e-01, -5.03973949e-01,  1.79558917e-02,\n",
              "       -1.27046078e+00,  2.82995534e-01,  1.08030817e-01,  2.94176190e-02,\n",
              "       -1.34793129e-01,  1.04921829e+00,  9.66220863e-01,  7.25916853e-01,\n",
              "        3.32107876e+00, -6.00225330e-01, -3.79517516e-01, -1.01480369e+00,\n",
              "        4.35986196e-01, -6.87487393e-01, -2.69836174e+00, -1.21333813e+00,\n",
              "        7.22518992e-02,  1.00978733e+00, -1.55694156e+00, -6.12442128e-01,\n",
              "       -1.39351805e-01, -7.28537489e-01,  5.31163793e-01,  4.00084198e-03,\n",
              "        3.21265914e-01, -7.25214926e-01,  1.53653633e+00, -3.75008758e-04,\n",
              "        1.29354962e+00, -4.38997664e-01,  5.90039464e-01, -6.79383783e-01,\n",
              "       -9.50909251e-01, -7.04350332e-01, -4.58666861e-02, -2.18733459e-01,\n",
              "        1.53920701e+00, -1.14870423e+00, -1.09033833e+00,  1.70018815e+00,\n",
              "        6.08783659e-01, -1.88141087e+00,  4.97269099e-01,  2.37332699e-01,\n",
              "       -2.14444405e+00, -3.69562425e-01, -1.74549518e-02,  7.31402517e-01,\n",
              "        9.54495667e-01,  9.57467711e-02,  1.03345080e+00, -1.46273275e-01,\n",
              "       -8.57496825e-01, -9.34181843e-01,  5.42645295e-01, -1.95816909e+00,\n",
              "        6.77807571e-01, -1.10657307e+00, -3.59224096e-01,  5.05381903e-01,\n",
              "        1.21794090e+00, -1.94068096e+00, -8.06178212e-01,  4.90616924e-02,\n",
              "       -5.96086335e-01,  8.61623101e-01, -2.08639057e+00,  3.61801641e-01,\n",
              "        4.25920177e-01,  4.90803971e-02,  1.10223673e+00, -1.22957425e+00,\n",
              "        1.10861676e+00, -7.02920403e-01,  7.25550518e-01, -3.24204219e-01,\n",
              "        8.14343129e-01,  7.80469930e-01, -1.46405357e+00, -1.54491194e-01,\n",
              "       -9.24323185e-02, -2.37875265e-01, -7.55662765e-01,  1.85143789e+00,\n",
              "        2.09096677e-01,  1.55501599e+00, -5.69148654e-01, -1.06179676e+00,\n",
              "        1.32247779e-01, -5.63236604e-01,  2.39014596e+00,  2.45422849e-01,\n",
              "        1.15259914e+00, -2.24235772e-01, -3.26061306e-01, -3.09114176e-02,\n",
              "        3.55717262e-01,  8.49586845e-01, -1.22154015e-01, -6.80851574e-01,\n",
              "       -1.06787658e+00, -7.66793627e-02,  5.72962726e-01,  4.57947076e-01,\n",
              "       -1.78175491e-02, -6.00138799e-01,  1.46765263e-01,  5.71804879e-01,\n",
              "       -3.68176565e-02,  1.12368489e-01, -1.50504326e-01,  9.15499268e-01,\n",
              "       -4.38200267e-01,  1.85535621e-01,  3.94428030e-01,  7.25522558e-01,\n",
              "        1.49588477e+00,  6.75453809e-01,  5.99213235e-01, -1.47023709e+00,\n",
              "        6.06403944e-01,  2.29371761e+00, -8.30010986e-01, -1.01951985e+00,\n",
              "       -2.14653842e-01,  1.02124813e+00,  5.24750492e-01, -4.77124206e-01,\n",
              "       -3.59901817e-02,  1.03703898e+00,  6.72619748e-01,  2.42887697e+00,\n",
              "        1.00568668e+00,  3.53567216e-01,  6.14726276e-01, -3.48984191e-01,\n",
              "       -9.77773002e-01,  1.71957132e-01,  4.90561044e-01, -1.39528303e+00,\n",
              "       -5.22356465e-01, -3.69255902e-01,  2.65642403e-01, -2.60466059e-01,\n",
              "        4.45096710e-01,  9.81122462e-02,  1.06032751e+00, -1.71116766e+00,\n",
              "        1.65712464e+00,  1.41767401e+00,  5.03170861e-02,  6.50323214e-01,\n",
              "        6.06548400e-01, -7.37289628e-01,  1.64665066e-01,  7.78174179e-01,\n",
              "        3.09816759e-01,  1.05132077e+00,  9.49961101e-02,  8.07509886e-02,\n",
              "       -7.67803746e-01, -3.64538050e-01, -4.59717681e-01,  1.70548352e+00,\n",
              "        2.40505552e-01, -9.99426501e-01,  3.98598388e-01, -1.92003697e-01,\n",
              "       -3.05376438e+00,  4.79852371e-01, -1.55269878e+00,  5.78464420e-01,\n",
              "       -9.61263599e-01, -1.45832446e+00,  4.94341651e-01, -1.49419377e+00,\n",
              "       -4.46699203e-01,  2.04377395e-01,  6.12232523e-01,  7.44884536e-01,\n",
              "       -3.62812886e-02, -8.32395348e-01,  1.92381543e+00, -6.05981321e-01,\n",
              "        1.80358898e+00, -4.52524973e-01,  1.16128569e+00,  1.06996554e+00,\n",
              "       -1.04553425e+00,  3.55284507e-01,  7.55392029e-01,  7.00982122e-01,\n",
              "       -1.98937450e-01,  3.01960045e-01, -3.94689681e-01, -1.17181338e+00,\n",
              "        9.84012237e-01, -5.59681422e-01,  1.37975819e+00,  6.02450901e-01,\n",
              "       -8.92646674e-01, -1.61198320e-01, -2.86384915e-01, -8.70887650e-01,\n",
              "        5.01429590e-01, -4.78614074e-01,  1.63169151e+00,  8.60891241e-01,\n",
              "       -8.80189065e-01, -1.90005215e-02, -2.26760192e-01, -1.56450785e+00,\n",
              "        9.31255679e-01,  9.49808815e-01,  9.25501215e-01, -4.56987858e-01,\n",
              "        1.06898597e+00, -2.09752935e-01,  9.35147780e-01,  1.81252782e+00,\n",
              "        1.40109881e-01, -1.41914878e+00, -3.16901197e-01,  6.40985866e-01,\n",
              "        1.21987438e+00, -1.13379204e+00, -1.90548298e-01,  2.33339126e-01,\n",
              "        4.34998324e-01,  9.10423603e-01, -9.48439656e-01, -4.23478297e-01,\n",
              "        1.00796648e+00,  3.92334911e-01,  4.48380651e-01,  1.12532350e+00,\n",
              "        1.04053390e-01,  5.28003422e-01, -3.14563862e-01, -1.34501002e+00,\n",
              "       -1.29525789e+00,  7.43205537e-02, -1.99560718e-01, -6.54603169e-01,\n",
              "        3.18014296e-01, -8.90271552e-01,  1.11337266e-01, -1.95225583e-02,\n",
              "       -8.39988915e-01, -2.29820588e+00,  1.45652739e+00,  3.16637236e-01,\n",
              "       -2.66412594e+00, -4.26428618e-01,  3.93787731e-01, -2.28140691e-01,\n",
              "        5.80330113e-01, -9.73267585e-01,  1.75167729e-01, -5.34836927e-02,\n",
              "       -1.83061987e-01, -2.21028902e-01,  1.99759555e-01,  9.32721414e-01,\n",
              "       -5.30119800e-01, -4.07240024e-01,  1.60564992e-01, -1.20149976e-01,\n",
              "        3.85602292e-01,  7.18290736e-01,  1.29118890e+00, -1.16444148e-01,\n",
              "       -2.27729800e+00, -6.96245395e-02,  3.53870427e-01, -1.86955017e-01])"
            ]
          },
          "metadata": {},
          "execution_count": 3
        }
      ]
    },
    {
      "cell_type": "code",
      "source": [
        "min(dados_normal), max(dados_normal)"
      ],
      "metadata": {
        "colab": {
          "base_uri": "https://localhost:8080/"
        },
        "id": "YagnLOY3w_UN",
        "outputId": "f93126de-0e91-44d7-ff89-6265078c8dc4"
      },
      "execution_count": 4,
      "outputs": [
        {
          "output_type": "execute_result",
          "data": {
            "text/plain": [
              "(-3.053764380426305, 3.9586027040379634)"
            ]
          },
          "metadata": {},
          "execution_count": 4
        }
      ]
    },
    {
      "cell_type": "code",
      "source": [
        "#sns.distplot(dados_normal);\n",
        "sns.histplot(dados_normal, kde=True);"
      ],
      "metadata": {
        "colab": {
          "base_uri": "https://localhost:8080/",
          "height": 430
        },
        "id": "1n-EItIuxJ7C",
        "outputId": "e93ca0db-6e0d-4d1c-c0a3-da251669b3cb"
      },
      "execution_count": 11,
      "outputs": [
        {
          "output_type": "display_data",
          "data": {
            "text/plain": [
              "<Figure size 640x480 with 1 Axes>"
            ],
            "image/png": "[encoded data removed]"
          },
          "metadata": {}
        }
      ]
    },
    {
      "cell_type": "code",
      "source": [
        "dados_normal.mean(), np.median(dados_normal), stats.mode(dados_normal), np.var(dados_normal), np.std(dados_normal)"
      ],
      "metadata": {
        "colab": {
          "base_uri": "https://localhost:8080/"
        },
        "id": "w3uIMMT2xQBy",
        "outputId": "904ff7bd-96a4-482b-eae3-1677cb33bcd0"
      },
      "execution_count": 13,
      "outputs": [
        {
          "output_type": "execute_result",
          "data": {
            "text/plain": [
              "(0.03881247615960185,\n",
              " 0.04129258886921605,\n",
              " ModeResult(mode=-3.053764380426305, count=1),\n",
              " 0.9623691107920885,\n",
              " 0.9810041339322116)"
            ]
          },
          "metadata": {},
          "execution_count": 13
        }
      ]
    },
    {
      "cell_type": "code",
      "source": [
        "np.sum(((dados_normal >=  0.9810041339322116) &(dados_normal <=  0.9810041339322116 + 1)))"
      ],
      "metadata": {
        "colab": {
          "base_uri": "https://localhost:8080/"
        },
        "id": "FlhoXgvxyCw5",
        "outputId": "b0f2f7c5-b513-43d5-adea-439cb1b279ab"
      },
      "execution_count": 14,
      "outputs": [
        {
          "output_type": "execute_result",
          "data": {
            "text/plain": [
              "148"
            ]
          },
          "metadata": {},
          "execution_count": 14
        }
      ]
    },
    {
      "cell_type": "code",
      "source": [
        "np.sum(((dados_normal <=  0.9810041339322116) & (dados_normal >=  0.9810041339322116 - 1)))\n"
      ],
      "metadata": {
        "colab": {
          "base_uri": "https://localhost:8080/"
        },
        "id": "oy1Gahx6yhJN",
        "outputId": "e798ebc1-c21e-40fb-b5b8-2ee562898e1a"
      },
      "execution_count": 15,
      "outputs": [
        {
          "output_type": "execute_result",
          "data": {
            "text/plain": [
              "353"
            ]
          },
          "metadata": {},
          "execution_count": 15
        }
      ]
    },
    {
      "cell_type": "code",
      "source": [
        "(148 + 353) / 1000"
      ],
      "metadata": {
        "colab": {
          "base_uri": "https://localhost:8080/"
        },
        "id": "B0shmvB7yvFA",
        "outputId": "ce385cc4-2e3a-4537-9f33-bd13f7006d22"
      },
      "execution_count": 18,
      "outputs": [
        {
          "output_type": "execute_result",
          "data": {
            "text/plain": [
              "0.501"
            ]
          },
          "metadata": {},
          "execution_count": 18
        }
      ]
    },
    {
      "cell_type": "code",
      "source": [],
      "metadata": {
        "id": "arJ65RBGziwM"
      },
      "execution_count": null,
      "outputs": []
    }
  ]
}