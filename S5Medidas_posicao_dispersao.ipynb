{
  "nbformat": 4,
  "nbformat_minor": 0,
  "metadata": {
    "colab": {
      "provenance": [],
      "authorship_tag": "ABX9TyMXhMzqCcsuqqriS5M9ydtj",
      "include_colab_link": true
    },
    "kernelspec": {
      "name": "python3",
      "display_name": "Python 3"
    },
    "language_info": {
      "name": "python"
    }
  },
  "cells": [
    {
      "cell_type": "markdown",
      "metadata": {
        "id": "view-in-github",
        "colab_type": "text"
      },
      "source": [
        "<a href=\"https://colab.research.google.com/github/HammadN98/Curso_Estatistica/blob/main/S5Medidas_posicao_dispersao.ipynb\" target=\"_parent\"><img src=\"https://colab.research.google.com/assets/colab-badge.svg\" alt=\"Open In Colab\"/></a>"
      ]
    },
    {
      "cell_type": "code",
      "source": [
        "import pandas as pd\n",
        "import numpy as np"
      ],
      "metadata": {
        "id": "DnOAe_9oM5o4"
      },
      "execution_count": 3,
      "outputs": []
    },
    {
      "cell_type": "markdown",
      "source": [
        "#Medidas de dispersao aula 63"
      ],
      "metadata": {
        "id": "pe3EglF0MhZu"
      }
    },
    {
      "cell_type": "code",
      "source": [
        "dados_altura = [150, 151,152,152,153,154,155,155,155,155,156,156,156,\n",
        "                157,158,158,160,160,160,160,160,161,161,161,161,162,\n",
        "                163,163,164,164,164,165,166,167,168,168,169,170,172,\n",
        "                173]\n",
        "\n",
        "dados_altura = np.array(dados_altura)"
      ],
      "metadata": {
        "id": "LJrmbFk7MhDT"
      },
      "execution_count": 4,
      "outputs": []
    },
    {
      "cell_type": "code",
      "execution_count": 5,
      "metadata": {
        "colab": {
          "base_uri": "https://localhost:8080/"
        },
        "id": "gNhXdvPoMgUe",
        "outputId": "59f7a369-434c-4859-f978-26728232ac6c"
      },
      "outputs": [
        {
          "output_type": "execute_result",
          "data": {
            "text/plain": [
              "23"
            ]
          },
          "metadata": {},
          "execution_count": 5
        }
      ],
      "source": [
        "dados_altura.max() - dados_altura.min()"
      ]
    },
    {
      "cell_type": "code",
      "source": [
        "q1 = np.quantile(dados_altura,0.25)\n",
        "q3 = np.quantile(dados_altura,0.75)\n",
        "q1, q3"
      ],
      "metadata": {
        "colab": {
          "base_uri": "https://localhost:8080/"
        },
        "id": "a5Muf3c6Ml73",
        "outputId": "9e260d8d-16b2-4a1d-bd70-628952eb70df"
      },
      "execution_count": 6,
      "outputs": [
        {
          "output_type": "execute_result",
          "data": {
            "text/plain": [
              "(155.75, 164.0)"
            ]
          },
          "metadata": {},
          "execution_count": 6
        }
      ]
    },
    {
      "cell_type": "code",
      "source": [
        "diferenca_interquartil = q3 -q1\n",
        "diferenca_interquartil"
      ],
      "metadata": {
        "colab": {
          "base_uri": "https://localhost:8080/"
        },
        "id": "9-OsIQ2oMl5p",
        "outputId": "5f9a85fc-e19f-4a22-905e-8b17261794d9"
      },
      "execution_count": 7,
      "outputs": [
        {
          "output_type": "execute_result",
          "data": {
            "text/plain": [
              "8.25"
            ]
          },
          "metadata": {},
          "execution_count": 7
        }
      ]
    },
    {
      "cell_type": "code",
      "source": [
        "inferior = q1 - (1.5 * diferenca_interquartil)\n",
        "print(f\"Limite inferior : {inferior}\")\n",
        "print(f\"Diferenca entre limite inferior e outlier: {dados_altura[0] - inferior}\")"
      ],
      "metadata": {
        "colab": {
          "base_uri": "https://localhost:8080/"
        },
        "id": "xlRH-lDXMl3j",
        "outputId": "9eb9ad27-b9a9-4966-f708-e75996734654"
      },
      "execution_count": 8,
      "outputs": [
        {
          "output_type": "stream",
          "name": "stdout",
          "text": [
            "Limite inferior : 143.375\n",
            "Diferenca entre limite inferior e outlier: 6.625\n"
          ]
        }
      ]
    },
    {
      "cell_type": "code",
      "source": [
        "superior = q3 + (1.5 * diferenca_interquartil)\n",
        "print(f\"Limite superior : {superior}\")\n",
        "print(f\"Diferenca entre limite inferior e outlier: {superior - dados_altura[-1]}\")"
      ],
      "metadata": {
        "colab": {
          "base_uri": "https://localhost:8080/"
        },
        "id": "FHdyvckPMl1U",
        "outputId": "37849eb5-90f2-4cd0-af39-b116b4e20e32"
      },
      "execution_count": 9,
      "outputs": [
        {
          "output_type": "stream",
          "name": "stdout",
          "text": [
            "Limite superior : 176.375\n",
            "Diferenca entre limite inferior e outlier: 3.375\n"
          ]
        }
      ]
    },
    {
      "cell_type": "code",
      "source": [
        ""
      ],
      "metadata": {
        "colab": {
          "base_uri": "https://localhost:8080/"
        },
        "id": "EnPH0HSdMlzA",
        "outputId": "f1b3955b-171b-463c-fce7-76cb0b8aa3d9"
      },
      "execution_count": 10,
      "outputs": [
        {
          "output_type": "execute_result",
          "data": {
            "text/plain": [
              "3.375"
            ]
          },
          "metadata": {},
          "execution_count": 10
        }
      ]
    },
    {
      "cell_type": "code",
      "source": [],
      "metadata": {
        "id": "4VazEK1AMlwl"
      },
      "execution_count": 10,
      "outputs": []
    },
    {
      "cell_type": "code",
      "source": [],
      "metadata": {
        "id": "htFZcfpqMlt-"
      },
      "execution_count": 10,
      "outputs": []
    }
  ]
}